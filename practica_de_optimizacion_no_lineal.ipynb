{
  "nbformat": 4,
  "nbformat_minor": 0,
  "metadata": {
    "colab": {
      "name": "practica de optimizacion no lineal.ipynb",
      "provenance": [],
      "authorship_tag": "ABX9TyPidpQjM2eeoTzUCGJDXtQw",
      "include_colab_link": true
    },
    "kernelspec": {
      "name": "python3",
      "display_name": "Python 3"
    },
    "language_info": {
      "name": "python"
    }
  },
  "cells": [
    {
      "cell_type": "markdown",
      "metadata": {
        "id": "view-in-github",
        "colab_type": "text"
      },
      "source": [
        "<a href=\"https://colab.research.google.com/github/bankros/OPTIMIZACI-N-1/blob/main/practica_de_optimizacion_no_lineal.ipynb\" target=\"_parent\"><img src=\"https://colab.research.google.com/assets/colab-badge.svg\" alt=\"Open In Colab\"/></a>"
      ]
    },
    {
      "cell_type": "markdown",
      "source": [
        "# Problema con restricción de igualdad.\n",
        "Una compañia fabrica una serie de productos, tres de los cuales son deficitarios.El objetivo de la empresa es minimizar sus pérdidas, que vienen dadas por la expresión.\n",
        "$$T(x,y,z)=x^3+2yz$$\n",
        "\n",
        "siendo $x,y,z$ las unidades fabricadas de los tres productos. Pero la compañia tiene firmado dos contratos con sendos clientes\n",
        "\n",
        "\n",
        "\n"
      ],
      "metadata": {
        "id": "VOdSVhzYtaQ5"
      }
    }
  ]
}